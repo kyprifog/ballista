{
 "cells": [
  {
   "cell_type": "code",
   "execution_count": 1,
   "id": "together-portland",
   "metadata": {},
   "outputs": [],
   "source": [
    "# Licensed under the Apache License, Version 2.0 (the \"License\");\n",
    "# you may not use this file except in compliance with the License.\n",
    "# You may obtain a copy of the License at\n",
    "#\n",
    "# http:#www.apache.org/licenses/LICENSE-2.0\n",
    "#\n",
    "# Unless required by applicable law or agreed to in writing, software\n",
    "# distributed under the License is distributed on an \"AS IS\" BASIS,\n",
    "# WITHOUT WARRANTIES OR CONDITIONS OF ANY KIND, either express or implied.\n",
    "# See the License for the specific language governing permissions and\n",
    "# limitations under the License.\n",
    "\n",
    "#!/usr/bin/env python3\n",
    "import ballista\n",
    "import typing \n",
    "from ballista import Field\n",
    "import pyarrow\n",
    "\n",
    "\n",
    "import numpy as np \n",
    "data_path = \"../../rust/benchmarks/tpch/data\"\n",
    "query_path = \"../../rust/benchmarks/tpch/queries\"\n",
    "tables = [ \"part\", \"supplier\", \"partsupp\", \"customer\", \"orders\", \"lineitem\", \"nation\", \"region\"]"
   ]
  },
  {
   "cell_type": "code",
   "execution_count": 3,
   "id": "right-confidentiality",
   "metadata": {},
   "outputs": [],
   "source": [
    "def get_schema(table_name: str)->ballista.Schema:\n",
    "    fields: typing.List[ballista.Field]\n",
    "    if table_name == \"part\":\n",
    "        fields = [Field(\"p_partkey\",\"i32\", False),\n",
    "            Field(\"p_name\", \"utf8\",False),\n",
    "            Field(\"p_mfgr\", \"utf8\", False),\n",
    "            Field(\"p_brand\", \"utf8\", False),\n",
    "            Field(\"p_type\", \"utf8\",False),\n",
    "            Field(\"p_size\", \"i32\",False),\n",
    "            Field(\"p_container\", \"utf8\",False),\n",
    "            Field(\"p_retailprice\", \"f64\",False),\n",
    "            Field(\"p_comment\", \"utf8\",False),\n",
    "        ]\n",
    "    elif table_name == \"supplier\":\n",
    "        fields = [\n",
    "            Field(\"s_suppkey\", \"i32\", False),\n",
    "            Field(\"s_name\", \"utf8\", False),\n",
    "            Field(\"s_address\", \"utf8\", False), \n",
    "            Field(\"s_nationkey\", \"i32\", False),\n",
    "            Field(\"s_phone\", \"utf8\", False),\n",
    "            Field(\"s_acctbal\", \"f64\", False),\n",
    "            Field(\"s_comment\", \"utf8\", False),\n",
    "        ]\n",
    "    elif table_name == \"partsupp\":\n",
    "        fields = [\n",
    "            Field(\"ps_partkey\", \"i32\", False),\n",
    "            Field(\"ps_suppkey\", \"i32\", False),\n",
    "            Field(\"ps_availqty\", \"i32\", False),\n",
    "            Field(\"ps_supplycost\", \"f64\", False),\n",
    "            Field(\"ps_comment\", \"utf8\", False),\n",
    "        ]\n",
    "    elif table_name == \"customer\":\n",
    "        fields = [\n",
    "            Field(\"c_custkey\",\"i32\", False),\n",
    "            Field(\"c_name\",\"utf8\", False),\n",
    "            Field(\"c_address\",\"utf8\", False),\n",
    "            Field(\"c_nationkey\",\"i32\", False),\n",
    "            Field(\"c_phone\",\"utf8\", False),\n",
    "            Field(\"c_acctbal\",\"f64\", False),\n",
    "            Field(\"c_mktsegment\",\"utf8\", False),\n",
    "            Field(\"c_comment\",\"utf8\", False),\n",
    "        ]\n",
    "    elif table_name == \"orders\":\n",
    "        fields = [\n",
    "            Field(\"o_orderkey\", \"i32\", False),\n",
    "            Field(\"o_custkey\", \"i32\", False),\n",
    "            Field(\"o_orderstatus\", \"str\", False),\n",
    "            Field(\"o_totalprice\", \"f64\", False),\n",
    "            Field(\"o_orderdate\", \"date32\", False),\n",
    "            Field(\"o_orderpriority\", \"str\", False),\n",
    "            Field(\"o_clerk\", \"str\", False),\n",
    "            Field(\"o_shippriority\", \"i32\", False),\n",
    "            Field(\"o_comment\", \"i32\", False),\n",
    "        ]\n",
    "    elif table_name == \"lineitem\":\n",
    "        fields = [\n",
    "            Field(\"l_orderkey\", \"i32\", False),\n",
    "            Field(\"l_partkey\", \"i32\", False),\n",
    "            Field(\"l_suppkey\", \"i32\", False),\n",
    "            Field(\"l_linenumber\", \"i32\", False),\n",
    "            Field(\"l_quantity\", \"f64\", False),\n",
    "            Field(\"l_extendedprice\", \"f64\", False),\n",
    "            Field(\"l_discount\", \"f64\", False),\n",
    "            Field(\"l_tax\", \"f64\", False),\n",
    "            Field(\"l_returnflag\", \"utf8\", False),\n",
    "            Field(\"l_linestatus\", \"utf8\", False),\n",
    "            Field(\"l_shipdate\", \"date32\", False),\n",
    "            Field(\"l_commitdate\", \"date32\", False),\n",
    "            Field(\"l_receiptdate\", \"date32\", False),\n",
    "            Field(\"l_shipinstruct\", \"utf8\", False),\n",
    "            Field(\"l_shipmode\", \"utf8\", False),\n",
    "            Field(\"l_comment\", \"utf8\", False),\n",
    "        ]\n",
    "    elif table_name == \"nation\":\n",
    "        fields = [\n",
    "            Field(\"n_nationkey\", \"i32\"),\n",
    "            Field(\"n_name\",\"utf8\"),\n",
    "            Field(\"n_region_key\",\"i32\"),\n",
    "            Field(\"n_comment\", \"utf8\")\n",
    "        ]\n",
    "    elif table_name == \"region\":\n",
    "        fields = [\n",
    "            Field(\"r_regionkey\",\"i32\"),\n",
    "            Field(\"r_name\", \"utf8\"),\n",
    "            Field(\"r_comment\",\"utf8\")\n",
    "        ]\n",
    "\n",
    "    if fields is None:\n",
    "        raise Exception(f\"Could not find a schema for {table_name}\")\n",
    "    schema = ballista.Schema(*fields)\n",
    "    return schema\n",
    "\n",
    "def get_query_sql(query_no: int)->str:\n",
    "    if query_no > 0 and query_no < 23 and query_no != 15:\n",
    "        filename = f\"{query_path}/q{query_no}.sql\"\n",
    "        with open(filename, 'r') as f:\n",
    "            sql = f.read()\n",
    "        return sql\n",
    "    else:\n",
    "        raise Exception(f\"The query number {query_no} is invalid\")\n",
    "\n",
    "\n",
    "def register_tables(ctx: ballista.BallistaContext)->None:\n",
    "    for table in tables:\n",
    "        path = f\"{data_path}/{table}.tbl\"\n",
    "        print(path)\n",
    "        schema = get_schema(table)\n",
    "        ctx.register_csv(table,path,  file_extension=\".tbl\", schema = schema, delimiter='|', has_header = False)\n",
    "\n",
    "\n",
    "def setup_context(host:str = \"localhost\", port: int=50051)->ballista.BallistaContext:\n",
    "    ctx = ballista.BallistaContext(host=host, port=port, **{\"batch.size\": \"5000\"})\n",
    "    register_tables(ctx)\n",
    "    return ctx\n"
   ]
  },
  {
   "cell_type": "code",
   "execution_count": 7,
   "id": "loaded-correlation",
   "metadata": {},
   "outputs": [
    {
     "name": "stdout",
     "output_type": "stream",
     "text": [
      "../../rust/benchmarks/tpch/data/part.tbl\n",
      "../../rust/benchmarks/tpch/data/supplier.tbl\n",
      "../../rust/benchmarks/tpch/data/partsupp.tbl\n",
      "../../rust/benchmarks/tpch/data/customer.tbl\n",
      "../../rust/benchmarks/tpch/data/orders.tbl\n",
      "../../rust/benchmarks/tpch/data/lineitem.tbl\n",
      "../../rust/benchmarks/tpch/data/nation.tbl\n",
      "../../rust/benchmarks/tpch/data/region.tbl\n"
     ]
    },
    {
     "ename": "Exception",
     "evalue": "Exception: Grpc error: status: Unimplemented, message: \"\", details: [], metadata: MetadataMap { headers: {\"date\": \"Sat, 27 Mar 2021 01:32:26 GMT\"} }",
     "output_type": "error",
     "traceback": [
      "\u001b[0;31m---------------------------------------------------------------------------\u001b[0m",
      "\u001b[0;31mException\u001b[0m                                 Traceback (most recent call last)",
      "\u001b[0;32m<ipython-input-7-f8263eeaabdb>\u001b[0m in \u001b[0;36m<module>\u001b[0;34m\u001b[0m\n\u001b[1;32m      3\u001b[0m \u001b[0msql_str\u001b[0m \u001b[0;34m=\u001b[0m \u001b[0mget_query_sql\u001b[0m\u001b[0;34m(\u001b[0m\u001b[0mquery_no\u001b[0m\u001b[0;34m)\u001b[0m\u001b[0;34m\u001b[0m\u001b[0;34m\u001b[0m\u001b[0m\n\u001b[1;32m      4\u001b[0m \u001b[0mdf\u001b[0m \u001b[0;34m=\u001b[0m \u001b[0mctx\u001b[0m\u001b[0;34m.\u001b[0m\u001b[0msql\u001b[0m\u001b[0;34m(\u001b[0m\u001b[0msql_str\u001b[0m\u001b[0;34m)\u001b[0m\u001b[0;34m\u001b[0m\u001b[0;34m\u001b[0m\u001b[0m\n\u001b[0;32m----> 5\u001b[0;31m \u001b[0mres\u001b[0m \u001b[0;34m=\u001b[0m \u001b[0mdf\u001b[0m\u001b[0;34m.\u001b[0m\u001b[0mcollect\u001b[0m\u001b[0;34m(\u001b[0m\u001b[0;34m)\u001b[0m\u001b[0;34m\u001b[0m\u001b[0;34m\u001b[0m\u001b[0m\n\u001b[0m\u001b[1;32m      6\u001b[0m \u001b[0mc\u001b[0m \u001b[0;34m=\u001b[0m \u001b[0mballista\u001b[0m\u001b[0;34m.\u001b[0m\u001b[0mcase\u001b[0m\u001b[0;34m(\u001b[0m\u001b[0;36m1\u001b[0m\u001b[0;34m)\u001b[0m\u001b[0;34m\u001b[0m\u001b[0;34m\u001b[0m\u001b[0m\n",
      "\u001b[0;31mException\u001b[0m: Exception: Grpc error: status: Unimplemented, message: \"\", details: [], metadata: MetadataMap { headers: {\"date\": \"Sat, 27 Mar 2021 01:32:26 GMT\"} }"
     ]
    }
   ],
   "source": [
    "query_no = 1 \n",
    "ctx = setup_context()\n",
    "sql_str = get_query_sql(query_no)\n",
    "df = ctx.sql(sql_str)\n",
    "res = df.collect()\n",
    "c = ballista.case(1)"
   ]
  },
  {
   "cell_type": "code",
   "execution_count": 30,
   "id": "absolute-architecture",
   "metadata": {},
   "outputs": [
    {
     "data": {
      "text/plain": [
       "<ballista.DFSchema at 0x11fa02ae0>"
      ]
     },
     "execution_count": 30,
     "metadata": {},
     "output_type": "execute_result"
    }
   ],
   "source": [
    "df.schema"
   ]
  },
  {
   "cell_type": "code",
   "execution_count": null,
   "id": "skilled-premium",
   "metadata": {},
   "outputs": [],
   "source": []
  },
  {
   "cell_type": "code",
   "execution_count": null,
   "id": "trying-table",
   "metadata": {},
   "outputs": [],
   "source": []
  }
 ],
 "metadata": {
  "kernelspec": {
   "display_name": "Python 3",
   "language": "python",
   "name": "python3"
  },
  "language_info": {
   "codemirror_mode": {
    "name": "ipython",
    "version": 3
   },
   "file_extension": ".py",
   "mimetype": "text/x-python",
   "name": "python",
   "nbconvert_exporter": "python",
   "pygments_lexer": "ipython3",
   "version": "3.8.0"
  }
 },
 "nbformat": 4,
 "nbformat_minor": 5
}
